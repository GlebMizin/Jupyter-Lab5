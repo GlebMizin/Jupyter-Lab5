{
 "cells": [
  {
   "cell_type": "markdown",
   "metadata": {
    "pycharm": {
     "name": "#%% md\n"
    }
   },
   "source": [
    "Условие задачи: Найти давление воздуха в откачиваемом сосуде как функцию времени откачки t. Объем сосуда V = 100 л. Процесс считать изотермическим и скорость откачки независимой от давления и равной C = 0.01 л/с. Скоростью откачки называют объем газа, откачиваемый за единицу времени, причем этот объем измеряется при давлении газа в данный момент времени."
   ]
  },
  {
   "cell_type": "markdown",
   "metadata": {
    "pycharm": {
     "name": "#%% md\n"
    }
   },
   "source": [
    "Аналитическое решение поставленной задачи: Рассмотрим изотермический процесс при изменении объема на $dV$ и давления на $dp$ , тогда $pV=(p+dp)(V+dV)$,\n",
    " или $pV=pV+pdV+Vdp+dpdV$; пренебрегая последним слагаемым, мы получаем дифференциальное уравнение первого порядка с разделяющимися переменными\n",
    " $dp/p = -dV/V$. Учитывая, что изменение объема $dV = Cdt$, уравнение можно проинтегрировать:\n",
    " $ln(p) - ln(p_{0}) = - \\frac{C}{V}t$ или $\\frac{p}{p_(0)}=exp(-\\frac{C}{V}t)$\n",
    " Полученная формула является решением задачи\n",
    "\n",
    "\n",
    " Программа для решения поставленной задачи:"
   ]
  },
  {
   "cell_type": "code",
   "execution_count": 6,
   "metadata": {
    "pycharm": {
     "name": "#%%\n"
    }
   },
   "outputs": [
    {
     "name": "stdout",
     "output_type": "stream",
     "text": [
      " q = 0.9950248756218906  b1= 0.09999999999999999  \\Delta t= 0.049999999999998934\n"
     ]
    },
    {
     "data": {
      "text/plain": "<Figure size 640x480 with 1 Axes>",
      "image/png": "[encoded data removed]"
     },
     "metadata": {},
     "output_type": "display_data"
    }
   ],
   "source": [
    "import matplotlib.pyplot as plt\n",
    "import math\n",
    "N=20; C=0.01; tmax=50.0; dt=tmax/N ; V=0.1;\n",
    "dV=0.0005;qV=V/(V+dV); b1=C/V;dt1=V*(1.0/qV-1.0)/C\n",
    "p0=1.0\n",
    "print (\" q =\",qV,\" b1=\",b1,\" \\Delta t=\",dt1)\n",
    "t=[]; p1=[]; p2=[]\n",
    "t.append(0); p1.append(p0); p2.append(p0)\n",
    "for i in range(1,N):\n",
    "    t1=i*dt; t.append(t1)\n",
    "    p1.append(math.exp(-b1*t1))\n",
    "    p2.append(qV**(t1/dt1))\n",
    "plt.bar(t,p1)\n",
    "plt.xlabel('$t$',fontsize=14)\n",
    "plt.ylabel('$\\eta_1, \\eta_2$',fontsize=14)\n",
    "plt.show()"
   ]
  },
  {
   "cell_type": "code",
   "execution_count": null,
   "metadata": {
    "pycharm": {
     "name": "#%%\n"
    }
   },
   "outputs": [],
   "source": []
  }
 ],
 "metadata": {
  "kernelspec": {
   "display_name": "Python 3 (ipykernel)",
   "language": "python",
   "name": "python3"
  },
  "language_info": {
   "codemirror_mode": {
    "name": "ipython",
    "version": 3
   },
   "file_extension": ".py",
   "mimetype": "text/x-python",
   "name": "python",
   "nbconvert_exporter": "python",
   "pygments_lexer": "ipython3",
   "version": "3.11.2"
  }
 },
 "nbformat": 4,
 "nbformat_minor": 1
}